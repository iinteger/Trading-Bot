{
 "cells": [
  {
   "cell_type": "markdown",
   "metadata": {
    "collapsed": true,
    "pycharm": {
     "name": "#%% md\n"
    }
   },
   "source": [
    "## 로지스틱 회귀"
   ]
  },
  {
   "cell_type": "code",
   "execution_count": 1,
   "metadata": {
    "pycharm": {
     "name": "#%%\n"
    }
   },
   "outputs": [],
   "source": [
    "import numpy as np\n",
    "import pandas\n",
    "import pandas as pd\n",
    "import pandas_datareader.data as web\n",
    "import matplotlib.pyplot as plt\n",
    "from sklearn.linear_model import LogisticRegression\n",
    "from sklearn import metrics\n",
    "from sklearn.model_selection import cross_val_score\n",
    "from xgboost import XGBClassifier"
   ]
  },
  {
   "cell_type": "code",
   "execution_count": 2,
   "metadata": {
    "pycharm": {
     "name": "#%%\n"
    }
   },
   "outputs": [
    {
     "data": {
      "text/html": [
       "<div>\n",
       "<style scoped>\n",
       "    .dataframe tbody tr th:only-of-type {\n",
       "        vertical-align: middle;\n",
       "    }\n",
       "\n",
       "    .dataframe tbody tr th {\n",
       "        vertical-align: top;\n",
       "    }\n",
       "\n",
       "    .dataframe thead th {\n",
       "        text-align: right;\n",
       "    }\n",
       "</style>\n",
       "<table border=\"1\" class=\"dataframe\">\n",
       "  <thead>\n",
       "    <tr style=\"text-align: right;\">\n",
       "      <th></th>\n",
       "      <th>Open</th>\n",
       "      <th>High</th>\n",
       "      <th>Low</th>\n",
       "      <th>Close</th>\n",
       "    </tr>\n",
       "    <tr>\n",
       "      <th>Date</th>\n",
       "      <th></th>\n",
       "      <th></th>\n",
       "      <th></th>\n",
       "      <th></th>\n",
       "    </tr>\n",
       "  </thead>\n",
       "  <tbody>\n",
       "    <tr>\n",
       "      <th>2015-12-31</th>\n",
       "      <td>205.130005</td>\n",
       "      <td>205.889999</td>\n",
       "      <td>203.869995</td>\n",
       "      <td>203.869995</td>\n",
       "    </tr>\n",
       "    <tr>\n",
       "      <th>2016-01-04</th>\n",
       "      <td>200.490005</td>\n",
       "      <td>201.029999</td>\n",
       "      <td>198.589996</td>\n",
       "      <td>201.020004</td>\n",
       "    </tr>\n",
       "    <tr>\n",
       "      <th>2016-01-05</th>\n",
       "      <td>201.399994</td>\n",
       "      <td>201.899994</td>\n",
       "      <td>200.050003</td>\n",
       "      <td>201.360001</td>\n",
       "    </tr>\n",
       "    <tr>\n",
       "      <th>2016-01-06</th>\n",
       "      <td>198.339996</td>\n",
       "      <td>200.059998</td>\n",
       "      <td>197.600006</td>\n",
       "      <td>198.820007</td>\n",
       "    </tr>\n",
       "    <tr>\n",
       "      <th>2016-01-07</th>\n",
       "      <td>195.330002</td>\n",
       "      <td>197.440002</td>\n",
       "      <td>193.589996</td>\n",
       "      <td>194.050003</td>\n",
       "    </tr>\n",
       "    <tr>\n",
       "      <th>...</th>\n",
       "      <td>...</td>\n",
       "      <td>...</td>\n",
       "      <td>...</td>\n",
       "      <td>...</td>\n",
       "    </tr>\n",
       "    <tr>\n",
       "      <th>2022-04-20</th>\n",
       "      <td>446.920013</td>\n",
       "      <td>447.570007</td>\n",
       "      <td>443.480011</td>\n",
       "      <td>444.709991</td>\n",
       "    </tr>\n",
       "    <tr>\n",
       "      <th>2022-04-21</th>\n",
       "      <td>448.540009</td>\n",
       "      <td>450.010010</td>\n",
       "      <td>437.100006</td>\n",
       "      <td>438.059998</td>\n",
       "    </tr>\n",
       "    <tr>\n",
       "      <th>2022-04-22</th>\n",
       "      <td>436.910004</td>\n",
       "      <td>438.079987</td>\n",
       "      <td>425.440002</td>\n",
       "      <td>426.040009</td>\n",
       "    </tr>\n",
       "    <tr>\n",
       "      <th>2022-04-25</th>\n",
       "      <td>423.670013</td>\n",
       "      <td>428.690002</td>\n",
       "      <td>418.839996</td>\n",
       "      <td>428.510010</td>\n",
       "    </tr>\n",
       "    <tr>\n",
       "      <th>2022-04-26</th>\n",
       "      <td>425.829987</td>\n",
       "      <td>426.040009</td>\n",
       "      <td>416.070007</td>\n",
       "      <td>416.100006</td>\n",
       "    </tr>\n",
       "  </tbody>\n",
       "</table>\n",
       "<p>1591 rows × 4 columns</p>\n",
       "</div>"
      ],
      "text/plain": [
       "                  Open        High         Low       Close\n",
       "Date                                                      \n",
       "2015-12-31  205.130005  205.889999  203.869995  203.869995\n",
       "2016-01-04  200.490005  201.029999  198.589996  201.020004\n",
       "2016-01-05  201.399994  201.899994  200.050003  201.360001\n",
       "2016-01-06  198.339996  200.059998  197.600006  198.820007\n",
       "2016-01-07  195.330002  197.440002  193.589996  194.050003\n",
       "...                ...         ...         ...         ...\n",
       "2022-04-20  446.920013  447.570007  443.480011  444.709991\n",
       "2022-04-21  448.540009  450.010010  437.100006  438.059998\n",
       "2022-04-22  436.910004  438.079987  425.440002  426.040009\n",
       "2022-04-25  423.670013  428.690002  418.839996  428.510010\n",
       "2022-04-26  425.829987  426.040009  416.070007  416.100006\n",
       "\n",
       "[1591 rows x 4 columns]"
      ]
     },
     "execution_count": 2,
     "metadata": {},
     "output_type": "execute_result"
    }
   ],
   "source": [
    "df = web.DataReader(\"SPY\", data_source=\"yahoo\", start=\"2016-01-01\", end=\"2022-04-26\")[[\"Open\", \"High\", \"Low\", \"Close\"]]\n",
    "df.dropna()"
   ]
  },
  {
   "cell_type": "code",
   "execution_count": 3,
   "metadata": {
    "pycharm": {
     "name": "#%%\n"
    }
   },
   "outputs": [],
   "source": [
    "df[\"MA10\"] = df[\"Close\"].rolling(window=10).mean()\n",
    "df[\"Corr\"] = df[\"Close\"].rolling(window=10).corr(df[\"MA10\"])\n",
    "df[\"Open-Close\"] = df[\"Open\"]-df[\"Close\"].shift(1)\n",
    "df[\"Open-Open\"] = df[\"Open\"]-df[\"Open\"].shift(1)\n",
    "df = df.dropna()"
   ]
  },
  {
   "cell_type": "code",
   "execution_count": 4,
   "metadata": {
    "pycharm": {
     "name": "#%%\n"
    }
   },
   "outputs": [],
   "source": [
    "X1 = df[[\"Open\", \"Close\", \"MA10\",\"High\", \"Low\", \"Corr\", \"Open-Close\", \"Open-Open\"]]\n",
    "X2 = df[[\"Open\", \"Close\", \"Open-Close\", \"Open-Open\"]]\n",
    "\n",
    "y = np.where(df[\"Close\"].shift(-1) > df[\"Close\"], 1, -1)"
   ]
  },
  {
   "cell_type": "code",
   "execution_count": 5,
   "metadata": {
    "pycharm": {
     "name": "#%%\n"
    }
   },
   "outputs": [],
   "source": [
    "train_pct = 0.8\n",
    "split = int(train_pct*len(df))\n",
    "\n",
    "X1_train, X1_test, y_train, y_test = X1[:split], X1[split:], y[:split], y[split:]\n",
    "X2_train, X2_test, y_train, y_test = X2[:split], X2[split:], y[:split], y[split:]"
   ]
  },
  {
   "cell_type": "code",
   "execution_count": 6,
   "metadata": {
    "pycharm": {
     "name": "#%%\n"
    }
   },
   "outputs": [
    {
     "name": "stdout",
     "output_type": "stream",
     "text": [
      "            0                         1\n",
      "0        Open    [0.029821215853404595]\n",
      "1       Close   [-0.028928319547045035]\n",
      "2        MA10   [-0.002676778064687749]\n",
      "3        High   [-0.005885916050547549]\n",
      "4         Low    [0.008672834586906238]\n",
      "5        Corr  [-0.0013022204753899958]\n",
      "6  Open-Close    [-0.05359596975146337]\n",
      "7   Open-Open    [-0.02732064319955332]\n"
     ]
    }
   ],
   "source": [
    "model1 = LogisticRegression()\n",
    "model1.fit(X1_train, y_train)\n",
    "\n",
    "model2 = LogisticRegression()\n",
    "model2.fit(X2_train, y_train)\n",
    "\n",
    "print(pd.DataFrame(zip(X1.columns, np.transpose(model1.coef_))))  # 회귀계수"
   ]
  },
  {
   "cell_type": "code",
   "execution_count": 7,
   "metadata": {
    "pycharm": {
     "name": "#%%\n"
    }
   },
   "outputs": [],
   "source": [
    "predicted1 = model1.predict(X1_test)\n",
    "predicted2 = model2.predict(X2_test)"
   ]
  },
  {
   "cell_type": "code",
   "execution_count": 8,
   "metadata": {
    "pycharm": {
     "name": "#%%\n"
    }
   },
   "outputs": [
    {
     "name": "stdout",
     "output_type": "stream",
     "text": [
      "[[  8 137]\n",
      " [  6 164]]\n"
     ]
    }
   ],
   "source": [
    "print(metrics.confusion_matrix(y_test, predicted1))"
   ]
  },
  {
   "cell_type": "code",
   "execution_count": 9,
   "metadata": {
    "pycharm": {
     "name": "#%%\n"
    }
   },
   "outputs": [
    {
     "name": "stdout",
     "output_type": "stream",
     "text": [
      "              precision    recall  f1-score   support\n",
      "\n",
      "          -1       0.57      0.06      0.10       145\n",
      "           1       0.54      0.96      0.70       170\n",
      "\n",
      "    accuracy                           0.55       315\n",
      "   macro avg       0.56      0.51      0.40       315\n",
      "weighted avg       0.56      0.55      0.42       315\n",
      "\n",
      "0.546031746031746\n"
     ]
    }
   ],
   "source": [
    "print(metrics.classification_report(y_test, predicted1))\n",
    "print(model1.score(X1_test, y_test))\n",
    "# acc : 58%"
   ]
  },
  {
   "cell_type": "code",
   "execution_count": 10,
   "metadata": {
    "pycharm": {
     "name": "#%%\n"
    }
   },
   "outputs": [],
   "source": [
    "# 매매전략\n",
    "\n",
    "df[\"Signal1\"] = model1.predict(X1)\n",
    "df[\"Signal2\"] = model2.predict(X2)\n",
    "\n",
    "df[\"SPY_Returns\"] = np.log(df[\"Close\"] / df[\"Close\"].shift(1))  # SNP 일간수익률\n",
    "Cum_SPY_Returns = np.cumsum(df[split:][\"SPY_Returns\"])  # SNP 누적수익률\n",
    "\n",
    "df[\"STR1_Returns\"] = df[\"SPY_Returns\"] * df[\"Signal1\"].shift(1)\n",
    "Cum_STR1_Returns = np.cumsum(df[split:][\"STR1_Returns\"])\n",
    "\n",
    "df[\"STR2_Returns\"] = df[\"SPY_Returns\"] * df[\"Signal2\"].shift(1)\n",
    "Cum_STR2_Returns = np.cumsum(df[split:][\"STR2_Returns\"])"
   ]
  },
  {
   "cell_type": "code",
   "execution_count": 11,
   "metadata": {
    "pycharm": {
     "name": "#%%\n"
    }
   },
   "outputs": [
    {
     "data": {
      "image/png": "[encoded data removed]",
      "text/plain": [
       "<Figure size 720x360 with 1 Axes>"
      ]
     },
     "metadata": {
      "needs_background": "light"
     },
     "output_type": "display_data"
    }
   ],
   "source": [
    "plt.figure(figsize=(10, 5))\n",
    "plt.plot(Cum_SPY_Returns, color='r', label=\"SPY Returns\")\n",
    "plt.plot(Cum_STR1_Returns, color='g', label=\"Strategy1 Returns\")\n",
    "plt.plot(Cum_STR2_Returns, label=\"Strategy2 Returns\")\n",
    "plt.legend()\n",
    "plt.show()\n",
    "\n",
    "# \"Open\", \"Close\", \"Open-Close\", \"Open-Open\"만 사용했을때 샤프비율이 0.31로 가장 높았음"
   ]
  },
  {
   "cell_type": "code",
   "execution_count": 12,
   "metadata": {
    "pycharm": {
     "name": "#%%\n"
    }
   },
   "outputs": [
    {
     "name": "stdout",
     "output_type": "stream",
     "text": [
      "Sharpe1 ratio : 0.26938853985773487\n",
      "Sharpe2 ratio : 0.3186671481747065\n"
     ]
    }
   ],
   "source": [
    "# 샤프비율 계산\n",
    "\n",
    "Std1= Cum_STR1_Returns.std()\n",
    "Sharpe1 = (Cum_STR1_Returns - Cum_SPY_Returns)/Std1\n",
    "Sharpe1 = Sharpe1.mean()\n",
    "print(\"Sharpe1 ratio :\", Sharpe1)\n",
    "\n",
    "Std2= Cum_STR2_Returns.std()\n",
    "Sharpe2 = (Cum_STR2_Returns - Cum_SPY_Returns)/Std2\n",
    "Sharpe2 = Sharpe2.mean()\n",
    "print(\"Sharpe2 ratio :\", Sharpe2)\n",
    "\n",
    "# 샤프비율이 양수로 나타남"
   ]
  },
  {
   "cell_type": "code",
   "execution_count": null,
   "metadata": {
    "pycharm": {
     "name": "#%%\n"
    }
   },
   "outputs": [],
   "source": []
  },
  {
   "cell_type": "code",
   "execution_count": null,
   "metadata": {
    "pycharm": {
     "name": "#%%\n"
    }
   },
   "outputs": [],
   "source": []
  }
 ],
 "metadata": {
  "kernelspec": {
   "display_name": "Python 3 (ipykernel)",
   "language": "python",
   "name": "python3"
  },
  "language_info": {
   "codemirror_mode": {
    "name": "ipython",
    "version": 3
   },
   "file_extension": ".py",
   "mimetype": "text/x-python",
   "name": "python",
   "nbconvert_exporter": "python",
   "pygments_lexer": "ipython3",
   "version": "3.7.11"
  }
 },
 "nbformat": 4,
 "nbformat_minor": 1
}
