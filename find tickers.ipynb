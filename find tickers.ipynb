{
 "cells": [
  {
   "cell_type": "code",
   "execution_count": 2,
   "metadata": {
    "collapsed": true
   },
   "outputs": [],
   "source": [
    "import pandas as pd\n",
    "from pandas_datareader import data as pdr\n",
    "import FinanceDataReader as fdr\n",
    "import yfinance\n",
    "from tqdm import tqdm\n",
    "import time\n",
    "import warnings\n",
    "warnings.filterwarnings(\"ignore\")"
   ]
  },
  {
   "cell_type": "code",
   "execution_count": 3,
   "outputs": [
    {
     "name": "stderr",
     "output_type": "stream",
     "text": [
      "100%|██████████| 4618/4618 [00:09<00:00, 500.28it/s]\n"
     ]
    }
   ],
   "source": [
    "etf_tickers = pd.read_csv(\"ETFs.csv\")\n",
    "stock_tickers = fdr.StockListing(\"NASDAQ\")"
   ],
   "metadata": {
    "collapsed": false,
    "pycharm": {
     "name": "#%%\n"
    }
   }
  },
  {
   "cell_type": "code",
   "execution_count": null,
   "outputs": [
    {
     "name": "stderr",
     "output_type": "stream",
     "text": [
      "  6%|▌         | 259/4618 [11:18<3:26:10,  2.84s/it]"
     ]
    },
    {
     "name": "stdout",
     "output_type": "stream",
     "text": [
      "BUY : SYNH\n"
     ]
    },
    {
     "name": "stderr",
     "output_type": "stream",
     "text": [
      " 14%|█▍        | 646/4618 [28:18<2:59:23,  2.71s/it]"
     ]
    },
    {
     "name": "stdout",
     "output_type": "stream",
     "text": [
      "BUY : OTLY\n"
     ]
    },
    {
     "name": "stderr",
     "output_type": "stream",
     "text": [
      " 14%|█▍        | 656/4618 [28:44<2:58:57,  2.71s/it]"
     ]
    },
    {
     "name": "stdout",
     "output_type": "stream",
     "text": [
      "BUY : CLBK\n"
     ]
    },
    {
     "name": "stderr",
     "output_type": "stream",
     "text": [
      " 17%|█▋        | 771/4618 [33:48<2:53:36,  2.71s/it]"
     ]
    },
    {
     "name": "stdout",
     "output_type": "stream",
     "text": [
      "BUY : IRWD\n"
     ]
    },
    {
     "name": "stderr",
     "output_type": "stream",
     "text": [
      " 24%|██▍       | 1124/4618 [49:08<2:25:46,  2.50s/it]"
     ]
    },
    {
     "name": "stdout",
     "output_type": "stream",
     "text": [
      "BUY : GLDD\n"
     ]
    },
    {
     "name": "stderr",
     "output_type": "stream",
     "text": [
      " 26%|██▋       | 1219/4618 [53:08<2:14:45,  2.38s/it]"
     ]
    },
    {
     "name": "stdout",
     "output_type": "stream",
     "text": [
      "BUY : EOLS\n"
     ]
    },
    {
     "name": "stderr",
     "output_type": "stream",
     "text": [
      " 28%|██▊       | 1283/4618 [55:47<2:10:48,  2.35s/it]"
     ]
    },
    {
     "name": "stdout",
     "output_type": "stream",
     "text": [
      "BUY : PHVS\n"
     ]
    },
    {
     "name": "stderr",
     "output_type": "stream",
     "text": [
      " 38%|███▊      | 1772/4618 [1:16:29<1:54:02,  2.40s/it]"
     ]
    },
    {
     "name": "stdout",
     "output_type": "stream",
     "text": [
      "BUY : NAACU\n"
     ]
    },
    {
     "name": "stderr",
     "output_type": "stream",
     "text": [
      " 39%|███▉      | 1799/4618 [1:17:36<1:49:39,  2.33s/it]"
     ]
    },
    {
     "name": "stdout",
     "output_type": "stream",
     "text": [
      "BUY : PHAT\n"
     ]
    },
    {
     "name": "stderr",
     "output_type": "stream",
     "text": [
      " 42%|████▏     | 1918/4618 [1:22:37<1:49:22,  2.43s/it]"
     ]
    },
    {
     "name": "stdout",
     "output_type": "stream",
     "text": [
      "BUY : HCARU\n"
     ]
    },
    {
     "name": "stderr",
     "output_type": "stream",
     "text": [
      " 49%|████▊     | 2248/4618 [1:36:13<1:40:58,  2.56s/it]"
     ]
    },
    {
     "name": "stdout",
     "output_type": "stream",
     "text": [
      "BUY : CFFEU\n"
     ]
    },
    {
     "name": "stderr",
     "output_type": "stream",
     "text": [
      " 49%|████▉     | 2258/4618 [1:36:36<1:31:32,  2.33s/it]"
     ]
    }
   ],
   "source": [
    "def get_position(df):\n",
    "    window=20\n",
    "    df[\"ma\"] = df[\"Adj Close\"].rolling(window=window).mean()\n",
    "    df = df.iloc[window-1:]\n",
    "    df[\"deviation\"] = df[\"Adj Close\"]-df[\"ma\"]\n",
    "    df[\"dev-squared\"] = df[\"deviation\"]*df[\"deviation\"]\n",
    "    df[\"ma-dev-squared\"] = df[\"dev-squared\"].rolling(window=window).mean()\n",
    "    df= df.iloc[window-1:]\n",
    "    df[\"std-dev\"] = df[\"ma-dev-squared\"]**(1/2)\n",
    "\n",
    "    df.loc[df[\"Adj Close\"] <= df[\"ma\"]-2*df[\"std-dev\"], \"position\"] = -2\n",
    "    df.loc[(df[\"ma\"]-2*df[\"std-dev\"] < df[\"Adj Close\"]) & (df[\"Adj Close\"] <= df[\"ma\"]), \"position\"] = -1\n",
    "    df.loc[(df[\"ma\"] <= df[\"Adj Close\"]) & (df[\"Adj Close\"] < df[\"ma\"]+2*df[\"std-dev\"]), \"position\"] = 1\n",
    "    df.loc[df[\"ma\"]+2*df[\"std-dev\"] <= df[\"Adj Close\"], \"position\"] = 2\n",
    "\n",
    "    return df\n",
    "\n",
    "for ticker in tqdm(etf_tickers[\"Symbol\"]):\n",
    "    df = pdr.get_data_yahoo(ticker, \"2022\")\n",
    "    df = get_position(df)\n",
    "    if df.iloc[-1][\"position\"] == -2:\n",
    "        print(\"BUY :\", ticker)\n",
    "    if df.iloc[-1][\"position\"] == 2:\n",
    "        print(\"SELL :\", ticker)\n",
    "    time.sleep(1)\n",
    "\n",
    "for ticker in tqdm(stock_tickers[\"Symbol\"]):\n",
    "    try:\n",
    "        df = pdr.get_data_yahoo(ticker, \"2022\")\n",
    "        df = get_position(df)\n",
    "        if df.iloc[-1][\"position\"] == -2:\n",
    "            print(\"BUY :\", ticker)\n",
    "    except:\n",
    "        pass"
   ],
   "metadata": {
    "collapsed": false,
    "pycharm": {
     "name": "#%%\n",
     "is_executing": true
    }
   }
  }
 ],
 "metadata": {
  "kernelspec": {
   "display_name": "Python 3",
   "language": "python",
   "name": "python3"
  },
  "language_info": {
   "codemirror_mode": {
    "name": "ipython",
    "version": 2
   },
   "file_extension": ".py",
   "mimetype": "text/x-python",
   "name": "python",
   "nbconvert_exporter": "python",
   "pygments_lexer": "ipython2",
   "version": "2.7.6"
  }
 },
 "nbformat": 4,
 "nbformat_minor": 0
}