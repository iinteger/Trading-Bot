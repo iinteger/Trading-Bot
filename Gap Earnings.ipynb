{
 "cells": [
  {
   "cell_type": "markdown",
   "metadata": {
    "collapsed": true,
    "pycharm": {
     "name": "#%% md\n"
    }
   },
   "source": [
    "# 갭 차이를 이용한 매매\n",
    "* #### 크래프트 테크놀로지스 블로그 글을 참고하여 구현함 : [https://blog.naver.com/qraftec](https://blog.naver.com/qraftec)\n",
    "\n",
    "<div>\n",
    "</br>\n",
    "</div>\n",
    "\n",
    "* 전날 종가와 당일 시가의 차이를 갭(gap)이라고 부름\n",
    "* 갭이 있을 때, 주가는 갭의 부호와 반대의 방향으로 흐르는 경우가 많음\n",
    "\n",
    "<div>\n",
    "</br>\n",
    "</div>\n",
    "\n",
    "* 이전일 종가를 당일 시가에서 빼서 Gap 컬럼을 생성하고, 종가와 시가의 차를 구하여 갭의 부호별로 합산함\n",
    "* 실험 결과, 대부분의 종목에서 갭이 마이너스일 때의 Earnings의 합이 더 컸음"
   ]
  },
  {
   "cell_type": "code",
   "execution_count": 1,
   "outputs": [
    {
     "name": "stdout",
     "output_type": "stream",
     "text": [
      "[*********************100%***********************]  1 of 1 completed\n",
      "- GAP count : 171\n",
      "- GAP sum : -15.22244644165039\n",
      "+ GAP count : 127\n",
      "+ GAP sum : 4.4524993896484375\n"
     ]
    }
   ],
   "source": [
    "import pybithumb\n",
    "import numpy as np\n",
    "import pandas as pd\n",
    "pd.options.display.max_columns = 20\n",
    "import yfinance as yf\n",
    "\n",
    "\n",
    "def get_Gap(df):\n",
    "    df[\"temp\"] = df[\"Close\"].shift(1)\n",
    "    df[\"Gap\"] = df[\"Open\"]-df[\"temp\"]\n",
    "    df.drop(\"temp\", axis=1, inplace=True)\n",
    "    df[\"Earnings\"] = df[\"Close\"] - df[\"Open\"]\n",
    "\n",
    "    print(\"- GAP count :\", df[df[\"Gap\"] > 0][\"Earnings\"].count())\n",
    "    print(\"- GAP sum :\", df[df[\"Gap\"] > 0][\"Earnings\"].sum())\n",
    "    print(\"+ GAP count :\", df[df[\"Gap\"] < 0][\"Earnings\"].count())\n",
    "    print(\"+ GAP sum :\", df[df[\"Gap\"] < 0][\"Earnings\"].sum())\n",
    "\n",
    "    return df\n",
    "\n",
    "\n",
    "df = yf.download([\"TQQQ\"], start=\"2021-01-01\")\n",
    "df = get_Gap(df)"
   ],
   "metadata": {
    "collapsed": false,
    "pycharm": {
     "name": "#%%\n"
    }
   }
  }
 ],
 "metadata": {
  "kernelspec": {
   "display_name": "Python 3",
   "language": "python",
   "name": "python3"
  },
  "language_info": {
   "codemirror_mode": {
    "name": "ipython",
    "version": 2
   },
   "file_extension": ".py",
   "mimetype": "text/x-python",
   "name": "python",
   "nbconvert_exporter": "python",
   "pygments_lexer": "ipython2",
   "version": "2.7.6"
  }
 },
 "nbformat": 4,
 "nbformat_minor": 0
}