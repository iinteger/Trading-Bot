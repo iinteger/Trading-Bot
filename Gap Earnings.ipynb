{
 "cells": [
  {
   "cell_type": "markdown",
   "metadata": {
    "collapsed": true,
    "pycharm": {
     "name": "#%% md\n"
    }
   },
   "source": [
    "# 갭 차이를 이용한 매매\n",
    "* 크래프트 테크놀로지스 블로그 글을 참고하여 구현함 : [https://blog.naver.com/qraftec](https://blog.naver.com/qraftec)\n",
    "\n",
    "<div>\n",
    "</br>\n",
    "</div>\n",
    "\n",
    "* 전날 종가와 당일 시가의 차이를 갭(gap)이라고 부름\n",
    "* 갭이 있을 때, 주가는 갭의 부호와 반대의 방향으로 흐르는 경우가 많음\n",
    "\n",
    "<div>\n",
    "</br>\n",
    "</div>\n",
    "\n",
    "* 이전일 종가를 당일 시가에서 빼서 Gap 컬럼을 생성하고, 종가와 시가의 차를 구하여 갭의 부호별로 합산함\n",
    "* 실험 결과, 대부분의 종목에서 갭이 마이너스일 때의 수익률 합이 더 컸음\n",
    "* 마이너스 갭일 때의 Earnings 분포가 플러스 갭일 때 보다 약간 오른쪽에 위치함\n",
    "* 그러나 22년도와 같은 하락장에서는 갭의 부호와 관계없이 모두 음의 수익률이 나타나기도 함"
   ]
  },
  {
   "cell_type": "code",
   "execution_count": 14,
   "outputs": [
    {
     "name": "stdout",
     "output_type": "stream",
     "text": [
      "[*********************100%***********************]  1 of 1 completed\n",
      "- GAP count : 327\n",
      "- GAP sum : -11.022446632385254\n",
      "+ GAP count : 224\n",
      "+ GAP sum : 2.9300012588500977\n",
      "+ GAP max value : 4.780002593994141\n",
      "+ GAP min value : -6.93499755859375\n",
      "- GAP max value : 8.800003051757812\n",
      "- GAP min value : -6.5149993896484375\n"
     ]
    }
   ],
   "source": [
    "import yfinance as yf\n",
    "\n",
    "\n",
    "def get_Gap(df):\n",
    "    df[\"temp\"] = df[\"Close\"].shift(1)\n",
    "    df[\"Gap\"] = df[\"Open\"]-df[\"temp\"]\n",
    "    df.drop(\"temp\", axis=1, inplace=True)\n",
    "    df[\"Earnings\"] = df[\"Close\"] - df[\"Open\"]\n",
    "\n",
    "    return df\n",
    "\n",
    "\n",
    "df = yf.download([\"TQQQ\"], start=\"2020-01-01\")\n",
    "df = get_Gap(df)\n",
    "\n",
    "print(\"- GAP count :\", df[df[\"Gap\"] > 0][\"Earnings\"].count())\n",
    "print(\"- GAP sum :\", df[df[\"Gap\"] > 0][\"Earnings\"].sum())\n",
    "print(\"+ GAP count :\", df[df[\"Gap\"] < 0][\"Earnings\"].count())\n",
    "print(\"+ GAP sum :\", df[df[\"Gap\"] < 0][\"Earnings\"].sum())\n",
    "\n",
    "print(\"+ GAP max value :\", df[df[\"Gap\"] > 0][\"Earnings\"].max())\n",
    "print(\"+ GAP min value :\", df[df[\"Gap\"] > 0][\"Earnings\"].min())\n",
    "print(\"- GAP max value :\", df[df[\"Gap\"] < 0][\"Earnings\"].max())\n",
    "print(\"- GAP min value :\", df[df[\"Gap\"] < 0][\"Earnings\"].min())"
   ],
   "metadata": {
    "collapsed": false,
    "pycharm": {
     "name": "#%%\n"
    }
   }
  }
 ],
 "metadata": {
  "kernelspec": {
   "display_name": "Python 3",
   "language": "python",
   "name": "python3"
  },
  "language_info": {
   "codemirror_mode": {
    "name": "ipython",
    "version": 2
   },
   "file_extension": ".py",
   "mimetype": "text/x-python",
   "name": "python",
   "nbconvert_exporter": "python",
   "pygments_lexer": "ipython2",
   "version": "2.7.6"
  }
 },
 "nbformat": 4,
 "nbformat_minor": 0
}