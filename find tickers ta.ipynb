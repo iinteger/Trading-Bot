{
 "cells": [
  {
   "cell_type": "code",
   "execution_count": 1,
   "metadata": {
    "collapsed": true,
    "pycharm": {
     "name": "#%%\n"
    }
   },
   "outputs": [],
   "source": [
    "import pandas as pd\n",
    "from pandas_datareader import data as pdr\n",
    "import FinanceDataReader as fdr\n",
    "from tqdm import tqdm\n",
    "import time\n",
    "import warnings\n",
    "import talib\n",
    "warnings.filterwarnings(\"ignore\")"
   ]
  },
  {
   "cell_type": "code",
   "execution_count": 2,
   "outputs": [
    {
     "name": "stderr",
     "output_type": "stream",
     "text": [
      "100%|██████████| 4632/4632 [00:09<00:00, 485.59it/s] \n"
     ]
    }
   ],
   "source": [
    "etf_tickers = pd.read_csv(\"ETFs.csv\")\n",
    "stock_tickers = fdr.StockListing(\"NASDAQ\")"
   ],
   "metadata": {
    "collapsed": false,
    "pycharm": {
     "name": "#%%\n"
    }
   }
  },
  {
   "cell_type": "code",
   "execution_count": 3,
   "outputs": [],
   "source": [
    "class Stock:\n",
    "    def __init__(self, name, df):\n",
    "        self.name = name\n",
    "        self.df = df\n",
    "        self.buy_score = -1\n",
    "        self.strategy_yield = -1\n",
    "        self.buy_and_hold_yield = -1\n",
    "        self.win_rate = -1\n",
    "\n",
    "    def get_indicator(self):\n",
    "        close = self.df[\"Adj Close\"]\n",
    "\n",
    "        # 볼린저밴드\n",
    "        self.df[\"Upper\"], self.df[\"Middle\"], self.df[\"Lower\"] = talib.BBANDS(close, timeperiod=20)\n",
    "\n",
    "        # 모멘텀\n",
    "        self.df[\"Momentum\"] = talib.MOM(close, timeperiod=10)\n",
    "        self.df[\"Momentum_signal\"] = talib.SMA(self.df[\"Momentum\"], timeperiod=9)\n",
    "\n",
    "        # 이평선\n",
    "        self.df[\"MA5\"] = talib.SMA(close, timeperiod=5)\n",
    "        self.df[\"MA15\"] = talib.SMA(close, timeperiod=20)\n",
    "        self.df[\"MA20\"] = talib.SMA(close, timeperiod=20)\n",
    "        self.df[\"MA60\"] = talib.SMA(close, timeperiod=60)\n",
    "\n",
    "        # RSI\n",
    "        self.df[\"RSI\"] = talib.RSI(close, timeperiod=14)\n",
    "        self.df[\"RSI_signal\"] = talib.SMA(self.df[\"RSI\"], timeperiod=6)\n",
    "\n",
    "        # MACD\n",
    "        self.df[\"MACD\"], self.df[\"MACD_signal\"], self.df[\"MACD_hist\"] = talib.MACD(close)\n",
    "\n",
    "        if len(self.df) > 504:\n",
    "            self.df = self.df[-504:]\n",
    "\n",
    "    def simulation(self):\n",
    "        seed = 1000000\n",
    "        buy_price = 0\n",
    "        holding = False\n",
    "        fee = 0.0016\n",
    "        buy_threshold = 3\n",
    "        sell_threshold = -4\n",
    "\n",
    "        temp_df = self.df.dropna()\n",
    "        temp_df = temp_df.reset_index()\n",
    "        temp_df[\"Score\"] = 0\n",
    "        temp_dict = dict(temp_df)\n",
    "\n",
    "        for i in range(1, len(temp_dict[\"Close\"])):\n",
    "            # 주가가 밴드 상단보다 높으면 -1\n",
    "            if temp_dict[\"Adj Close\"][i] > temp_dict[\"Upper\"][i]:\n",
    "                temp_dict[\"Score\"][i] -= 2\n",
    "            # 주가가 밴드 하단보다 낮으면 +1\n",
    "            elif temp_dict[\"Adj Close\"][i] < temp_dict[\"Lower\"][i]:\n",
    "                temp_dict[\"Score\"][i] += 2\n",
    "\n",
    "            # 모멘텀이 0보다 위일 때 +1\n",
    "            if temp_dict[\"Momentum\"][i] > 0:\n",
    "                temp_dict[\"Score\"][i] += 1\n",
    "            # 모멘텀이 0보다 아래일 때 -1\n",
    "            elif temp_dict[\"Momentum\"][i] < 0:\n",
    "                temp_dict[\"Score\"][i] -= 1\n",
    "\n",
    "            # 모멘텀이 모멘텀 시그널을 상향돌파시 +1\n",
    "            if (temp_dict[\"Momentum\"][i-1] < temp_dict[\"Momentum_signal\"][i-1]) and (temp_dict[\"Momentum_signal\"][i] < temp_dict[\"Momentum\"][i]):\n",
    "                temp_dict[\"Score\"][i] += 2\n",
    "            # 모멘텀이 모멘텀 시그널을 하향돌파시 -1\n",
    "            elif (temp_dict[\"Momentum\"][i-1] > temp_dict[\"Momentum_signal\"][i-1]) and (temp_dict[\"Momentum_signal\"][i] > temp_dict[\"Momentum\"][i]):\n",
    "                temp_dict[\"Score\"][i] -= 2\n",
    "\n",
    "            # 단기 이평선이 장기 이평선을 상향돌파시 +1\n",
    "            if (temp_dict[\"MA15\"][i-1] < temp_dict[\"MA20\"][i-1]) and (temp_dict[\"MA20\"][i] < temp_dict[\"MA15\"][i]):\n",
    "                temp_dict[\"Score\"][i] += 1\n",
    "            # 단기 이평선이 장기 이평선을 하향돌파시 -1\n",
    "            elif (temp_dict[\"MA15\"][i-1] > temp_dict[\"MA20\"][i-1]) and (temp_dict[\"MA20\"][i] > temp_dict[\"MA15\"][i]):\n",
    "                temp_dict[\"Score\"][i] -= 1\n",
    "\n",
    "            # RSI가 70을 넘어가면 과매수 -1\n",
    "            if temp_dict[\"RSI\"][i] >= 70:\n",
    "                temp_dict[\"Score\"][i] -= 2\n",
    "            # RSI가 30에서 내려가면 과매도 +1\n",
    "            elif temp_dict[\"RSI\"][i] <= 30:\n",
    "                temp_dict[\"Score\"][i] += 2\n",
    "\n",
    "            # RSI가 RSI 시그널을 상향돌파시 +1\n",
    "            if (temp_dict[\"RSI\"][i-1] < temp_dict[\"RSI_signal\"][i-1]) and (temp_dict[\"RSI_signal\"][i] < temp_dict[\"RSI\"][i]):\n",
    "                temp_dict[\"Score\"][i] += 1\n",
    "            # RSI가 RSI 시그널을 하향돌파시 -1\n",
    "            elif (temp_dict[\"RSI\"][i-1] > temp_dict[\"RSI_signal\"][i-1]) and (temp_dict[\"RSI_signal\"][i] > temp_dict[\"RSI\"][i]):\n",
    "                temp_dict[\"Score\"][i] -= 1\n",
    "\n",
    "            # MACD가 MACD 시그널을 상향돌파시 +1\n",
    "            if (temp_dict[\"MACD\"][i-1] < temp_dict[\"MACD_signal\"][i-1]) and (temp_dict[\"MACD_signal\"][i] < temp_dict[\"MACD\"][i]):\n",
    "                temp_dict[\"Score\"][i] += 1\n",
    "            # MACD가 MACD 시그널을 하향돌파시 -1\n",
    "            elif (temp_dict[\"MACD\"][i-1] > temp_dict[\"MACD_signal\"][i-1]) and (temp_dict[\"MACD_signal\"][i] > temp_dict[\"MACD\"][i]):\n",
    "                temp_dict[\"Score\"][i] -= 1\n",
    "\n",
    "        self.df = pd.DataFrame.from_dict(temp_dict)\n",
    "\n",
    "        for index, row in self.df.iterrows():\n",
    "            self.df.loc[index, \"yield\"] = int((seed/1000000-1)*100)\n",
    "            if row[\"Score\"] >= buy_threshold:\n",
    "                if not holding:\n",
    "                    buy_price = row[\"Adj Close\"]\n",
    "                    self.df.loc[index, \"trade\"] = \"BUY\"\n",
    "                    holding = True\n",
    "\n",
    "            elif row[\"Score\"] <= sell_threshold:\n",
    "                if holding:\n",
    "                    sell_price = row[\"Adj Close\"]\n",
    "                    holding = False\n",
    "                    if sell_price > buy_price:\n",
    "                        self.df.loc[index, \"trade\"] = \"SELL\"\n",
    "                    else:\n",
    "                        self.df.loc[index, \"trade\"] = \"STOP\"\n",
    "                    seed = seed * (sell_price/buy_price) * (1-fee)\n",
    "\n",
    "            # 5%이상 손실날 때 손절\n",
    "            elif holding and row[\"Adj Close\"]/buy_price <= 0.9:\n",
    "                    sell_price = row[\"Adj Close\"]\n",
    "                    holding = False\n",
    "                    self.df.loc[index, \"trade\"] = \"STOP\"\n",
    "                    seed = seed * (sell_price/buy_price) * (1-fee)\n",
    "\n",
    "        if len(self.df[self.df[\"trade\"]==\"BUY\"]) != len(self.df[self.df[\"trade\"]==\"SELL\"]) + len(self.df[self.df[\"trade\"]==\"STOP\"]):\n",
    "            win_rate = len(self.df[self.df[\"trade\"]==\"SELL\"])/(len(self.df[self.df[\"trade\"]==\"BUY\"])-1)\n",
    "        else:\n",
    "            win_rate = len(self.df[self.df[\"trade\"]==\"SELL\"])/len(self.df[self.df[\"trade\"]==\"BUY\"])\n",
    "\n",
    "        self.df[\"buy_and_hold\"] = round(((1000000/self.df.iloc[0][\"Adj Close\"]*self.df[\"Adj Close\"])/1000000-1)*100, 2)\n",
    "\n",
    "        self.buy_score = self.df.iloc[-1][\"Score\"]\n",
    "        self.strategy_yield = (seed/1000000-1)*100\n",
    "        self.buy_and_hold_yield = self.df.iloc[-1]['buy_and_hold']\n",
    "        self.win_rate = win_rate"
   ],
   "metadata": {
    "collapsed": false,
    "pycharm": {
     "name": "#%%\n"
    }
   }
  },
  {
   "cell_type": "code",
   "execution_count": 7,
   "outputs": [],
   "source": [
    "def print_stocks(stocks):\n",
    "    for df in stocks:\n",
    "        print(\"Ticker :\", df.name)\n",
    "        print(\"Buy Score :\", df.buy_score)\n",
    "        print(\"2-years buy&hold yield :\", df.buy_and_hold_yield)\n",
    "        print(\"strategy yield :\", df.strategy_yield)\n",
    "        print(\"win rate :\", df.win_rate)\n",
    "        print()"
   ],
   "metadata": {
    "collapsed": false,
    "pycharm": {
     "name": "#%%\n"
    }
   }
  },
  {
   "cell_type": "code",
   "execution_count": 4,
   "outputs": [
    {
     "name": "stdout",
     "output_type": "stream",
     "text": [
      "------------ETF-----------\n"
     ]
    },
    {
     "name": "stderr",
     "output_type": "stream",
     "text": [
      " 15%|█▌        | 15/100 [00:22<01:56,  1.38s/it]"
     ]
    },
    {
     "name": "stdout",
     "output_type": "stream",
     "text": [
      "except\n",
      "'trade'\n"
     ]
    },
    {
     "name": "stderr",
     "output_type": "stream",
     "text": [
      " 16%|█▌        | 16/100 [00:23<01:46,  1.26s/it]"
     ]
    },
    {
     "name": "stdout",
     "output_type": "stream",
     "text": [
      "except\n",
      "'trade'\n"
     ]
    },
    {
     "name": "stderr",
     "output_type": "stream",
     "text": [
      "100%|██████████| 100/100 [02:11<00:00,  1.31s/it]\n"
     ]
    },
    {
     "name": "stdout",
     "output_type": "stream",
     "text": [
      "------------주식-----------\n"
     ]
    },
    {
     "name": "stderr",
     "output_type": "stream",
     "text": [
      " 62%|██████▏   | 62/100 [02:46<02:10,  3.43s/it]"
     ]
    },
    {
     "name": "stdout",
     "output_type": "stream",
     "text": [
      "except\n",
      "division by zero\n"
     ]
    },
    {
     "name": "stderr",
     "output_type": "stream",
     "text": [
      "100%|██████████| 100/100 [04:38<00:00,  2.79s/it]\n"
     ]
    }
   ],
   "source": [
    "#etf\n",
    "print(\"------------ETF-----------\")\n",
    "stocks = []\n",
    "for ticker in tqdm(etf_tickers[\"Symbol\"]):\n",
    "    try:\n",
    "        stock_df = pdr.get_data_yahoo(ticker)\n",
    "        stock = Stock(ticker, stock_df)\n",
    "        stock.get_indicator()\n",
    "        stock.simulation()\n",
    "\n",
    "        if stock.buy_score >= 3:\n",
    "            stocks.append(stock)\n",
    "\n",
    "    except Exception as e:\n",
    "        print(\"except\")\n",
    "        print(e)\n",
    "        pass\n",
    "\n",
    "print(\"------------주식-----------\")\n",
    "# #주식\n",
    "for ticker in tqdm(stock_tickers[\"Symbol\"][:100]):\n",
    "    try:\n",
    "        stock_df = pdr.get_data_yahoo(ticker)\n",
    "        stock = Stock(ticker, stock_df)\n",
    "        stock.get_indicator()\n",
    "        stock.simulation()\n",
    "\n",
    "        if stock.buy_score >= 3:\n",
    "            stocks.append(stock)\n",
    "\n",
    "    except Exception as e:\n",
    "        print(\"except\")\n",
    "        print(e)\n",
    "        pass"
   ],
   "metadata": {
    "collapsed": false,
    "pycharm": {
     "name": "#%%\n"
    }
   }
  },
  {
   "cell_type": "code",
   "execution_count": 8,
   "outputs": [
    {
     "name": "stdout",
     "output_type": "stream",
     "text": [
      "Ticker : VOD\n",
      "Buy Score : 3\n",
      "2-years buy&hold yield : -4.39\n",
      "strategy yield : 10.920629399553494\n",
      "win rate : 0.1111111111111111\n",
      "\n",
      "Ticker : EA\n",
      "Buy Score : 4\n",
      "2-years buy&hold yield : -5.37\n",
      "strategy yield : -22.145332661285632\n",
      "win rate : 0.35714285714285715\n",
      "\n",
      "Ticker : DLTR\n",
      "Buy Score : 3\n",
      "2-years buy&hold yield : 46.83\n",
      "strategy yield : 31.526532929509198\n",
      "win rate : 0.6\n",
      "\n",
      "Ticker : SGEN\n",
      "Buy Score : 3\n",
      "2-years buy&hold yield : 1.69\n",
      "strategy yield : 13.683084812218361\n",
      "win rate : 0.25\n",
      "\n"
     ]
    }
   ],
   "source": [
    "print_stocks(stocks)"
   ],
   "metadata": {
    "collapsed": false,
    "pycharm": {
     "name": "#%%\n"
    }
   }
  }
 ],
 "metadata": {
  "kernelspec": {
   "display_name": "Python 3",
   "language": "python",
   "name": "python3"
  },
  "language_info": {
   "codemirror_mode": {
    "name": "ipython",
    "version": 2
   },
   "file_extension": ".py",
   "mimetype": "text/x-python",
   "name": "python",
   "nbconvert_exporter": "python",
   "pygments_lexer": "ipython2",
   "version": "2.7.6"
  }
 },
 "nbformat": 4,
 "nbformat_minor": 0
}